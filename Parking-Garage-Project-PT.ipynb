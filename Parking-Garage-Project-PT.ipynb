{
 "cells": [
  {
   "cell_type": "markdown",
   "metadata": {},
   "source": [
    "# Parking Garage Project\n",
    "\n",
    "Your assignment for today is to create a parking garage class to get more familiar with Object Oriented Programming(OOP). \n",
    "\n",
    "Your parking gargage class should have the following methods:\n",
    "- takeTicket\n",
    "   - This should decrease the amount of tickets available by 1\n",
    "   - This should decrease the amount of parkingSpaces available by 1\n",
    "- payForParking\n",
    "   - Display an input that waits for an amount from the user and store it in a variable\n",
    "   - If the payment variable is not empty then ->  display a message to the user that their ticket has been paid and they have 15mins to leave\n",
    "   - This should update the \"currentTicket\" dictionary key \"paid\" to True\n",
    "- leaveGarage\n",
    "   - If the ticket has been paid, display a message of \"Thank You, have a nice day\"\n",
    "   - If the ticket has not been paid, display an input prompt for payment\n",
    "      - Once paid, display message \"Thank you, have a nice day!\"\n",
    "   - Update parkingSpaces list to increase by 1\n",
    "   - Update tickets list to increase by 1\n",
    "\n",
    "You will need a few attributes as well:\n",
    "- tickets -> list\n",
    "- parkingSpaces -> list\n",
    "- currentTicket -> dictionary"
   ]
  },
  {
   "cell_type": "code",
   "execution_count": null,
   "metadata": {},
   "outputs": [],
   "source": []
  },
  {
   "cell_type": "code",
   "execution_count": 15,
   "metadata": {
    "scrolled": false
   },
   "outputs": [
    {
     "name": "stdout",
     "output_type": "stream",
     "text": [
      "Would you like to do park, leave, pay, or paid? park\n",
      "This is your ticket number1\n",
      "Would you like to do park, leave, pay, or paid? park\\\n",
      "Would you like to do park, leave, pay, or paid? park\n",
      "This is your ticket number2\n",
      "Would you like to do park, leave, pay, or paid? pay\n",
      "Which tiket number was your?2\n",
      "Would you like to pay? yes or nono\n",
      "Please pay for you ticket\n",
      "Would you like to do park, leave, pay, or paid? pay\n",
      "Which tiket number was your?1\n",
      "Would you like to pay? yes or noyes\n",
      "Thank you for your payment, you have 15 minutes to leave\n",
      "Would you like to do park, leave, pay, or paid? leave\n",
      "Have a nice day\n"
     ]
    }
   ],
   "source": [
    "#Start your code here...\n",
    "class Garage():\n",
    "    \n",
    "    def __init__(self, tickets =[1,2,3,4,5,6,7,8,9,10], parkingSpaces = [1,2,3,4,5,6,7,8,9,10],\n",
    "                 currentTicket = {}):\n",
    "        self.tickets = tickets\n",
    "        self.parkingSpaces = parkingSpaces\n",
    "        self.currentTicket = currentTicket\n",
    "    \n",
    "    def garage_program(self):\n",
    "        while True:\n",
    "            response = input(\"Would you like to do park, leave, pay, or paid? \")\n",
    "            \n",
    "            if response.lower() == \"leave\":\n",
    "                print(\"Have a nice day\")\n",
    "                break\n",
    "            \n",
    "            elif response.lower() == \"park\":\n",
    "                self.getTicket() \n",
    "            \n",
    "            elif response.lower() == \"pay\":\n",
    "                self.payForParking()\n",
    "            \n",
    "            elif response.lower() == \"paid\":\n",
    "                self.leaveGarage() \n",
    "                \n",
    "    def getTicket(self):\n",
    "        #self.getTicket()\n",
    "        if len(self.tickets) == 0 and len(self.parkingSpaces) == 0:\n",
    "            print(\"We are full\")\n",
    "        \n",
    "        if len(self.tickets) >= 1:\n",
    "            takeinTicket = self.tickets.pop(0)\n",
    "            self.currentTicket.update({takeinTicket:\"\"})\n",
    "            print(f\"This is your ticket number{takeinTicket}\") \n",
    "    \n",
    "    #def nowTicket (self):\n",
    "        #self.currentTicket\n",
    "        #if len(currentTicket) = len(self.currentTicket)\n",
    "        \n",
    "    def payForParking(self):\n",
    "    # need to display an input that waits for amount from users and store it in a variable\n",
    "        key = input(\"Which tiket number was your?\")\n",
    "        payFor = input(\"Would you like to pay? yes or no\")\n",
    "        if payFor == \"yes\":\n",
    "            self.currentTicket[key] = \"paid\"\n",
    "            print(\"Thank you for your payment, you have 15 minutes to leave\")\n",
    "        else:\n",
    "            print(\"Please pay for you ticket\")\n",
    "            \n",
    "     \n",
    "    def leaveGarage(self):\n",
    "        key = input(\"Which tiket number was your?\")\n",
    "        if currentTicket[key] == \"paid\":\n",
    "            print(\"Thank you, have a nice day\")\n",
    "            self.currentTicket.pop(key)\n",
    "            self.tickets.append(key)\n",
    "            self.parkingSpaces.append(key)\n",
    "        \n",
    "        \n",
    "            \n",
    "\n",
    "    \n",
    "my_Garage = Garage()\n",
    "my_Garage.garage_program()"
   ]
  },
  {
   "cell_type": "code",
   "execution_count": null,
   "metadata": {},
   "outputs": [],
   "source": []
  }
 ],
 "metadata": {
  "kernelspec": {
   "display_name": "Python 3",
   "language": "python",
   "name": "python3"
  },
  "language_info": {
   "codemirror_mode": {
    "name": "ipython",
    "version": 3
   },
   "file_extension": ".py",
   "mimetype": "text/x-python",
   "name": "python",
   "nbconvert_exporter": "python",
   "pygments_lexer": "ipython3",
   "version": "3.8.5"
  }
 },
 "nbformat": 4,
 "nbformat_minor": 2
}
